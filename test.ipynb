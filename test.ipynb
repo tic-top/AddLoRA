{
 "cells": [
  {
   "cell_type": "code",
   "execution_count": 3,
   "metadata": {},
   "outputs": [],
   "source": [
    "import loralib as lora\n",
    "# auto load\n",
    "%load_ext autoreload\n",
    "%autoreload 2"
   ]
  },
  {
   "attachments": {},
   "cell_type": "markdown",
   "metadata": {},
   "source": [
    "Remember to make a good initalization for the weight"
   ]
  },
  {
   "cell_type": "code",
   "execution_count": 6,
   "metadata": {},
   "outputs": [
    {
     "name": "stdout",
     "output_type": "stream",
     "text": [
      "Parameter containing:\n",
      "tensor([[ 0.0905,  0.2005, -0.1038, -0.4109,  0.0708],\n",
      "        [ 0.4147,  0.1027,  0.2135, -0.4109,  0.1699],\n",
      "        [ 0.0787, -0.4213, -0.2836,  0.4207, -0.3927]], requires_grad=True)\n",
      "Parameter containing:\n",
      "tensor([[0., 0., 0.],\n",
      "        [0., 0., 0.],\n",
      "        [0., 0., 0.],\n",
      "        [0., 0., 0.],\n",
      "        [0., 0., 0.],\n",
      "        [0., 0., 0.],\n",
      "        [0., 0., 0.],\n",
      "        [0., 0., 0.],\n",
      "        [0., 0., 0.],\n",
      "        [0., 0., 0.]], requires_grad=True)\n",
      "Parameter containing:\n",
      "tensor([[ 0.0905,  0.2005, -0.1038, -0.4109,  0.0708],\n",
      "        [ 0.4147,  0.1027,  0.2135, -0.4109,  0.1699],\n",
      "        [ 0.0787, -0.4213, -0.2836,  0.4207, -0.3927],\n",
      "        [ 0.0905,  0.2005, -0.1038, -0.4109,  0.0708],\n",
      "        [ 0.4147,  0.1027,  0.2135, -0.4109,  0.1699],\n",
      "        [ 0.0787, -0.4213, -0.2836,  0.4207, -0.3927],\n",
      "        [ 0.0905,  0.2005, -0.1038, -0.4109,  0.0708],\n",
      "        [ 0.4147,  0.1027,  0.2135, -0.4109,  0.1699],\n",
      "        [ 0.0787, -0.4213, -0.2836,  0.4207, -0.3927],\n",
      "        [ 0.0905,  0.2005, -0.1038, -0.4109,  0.0708]])\n"
     ]
    }
   ],
   "source": [
    "in_features = 5\n",
    "out_features = 10\n",
    "layer = lora.Linear(in_features, out_features, 3, 'add', 3)\n",
    "layer.train(mode=False)\n",
    "print(layer.lora_A)\n",
    "print(layer.lora_B)\n",
    "print(layer.weight)"
   ]
  },
  {
   "cell_type": "code",
   "execution_count": 13,
   "metadata": {},
   "outputs": [
    {
     "name": "stdout",
     "output_type": "stream",
     "text": [
      "Parameter containing:\n",
      "tensor([[0., 0., 0., 0., 0.],\n",
      "        [0., 0., 0., 0., 0.],\n",
      "        [0., 0., 0., 0., 0.]], requires_grad=True)\n",
      "Parameter containing:\n",
      "tensor([[ 1.8710, -0.1150,  0.3788],\n",
      "        [ 0.5278, -2.1116,  1.2788],\n",
      "        [ 1.8622,  0.1464,  0.7416],\n",
      "        [ 0.0967,  0.6185, -0.5924],\n",
      "        [ 1.1458,  1.2184, -0.9943],\n",
      "        [ 1.9919, -0.0321, -0.3932],\n",
      "        [-0.3981, -0.0642,  0.1205],\n",
      "        [-2.3824,  1.1970, -1.5812],\n",
      "        [-1.3568, -1.1408,  1.0675],\n",
      "        [ 0.9799,  0.1194,  1.2531]], requires_grad=True)\n",
      "tensor([[ 1.8710, -0.1150,  0.3788,  1.8710, -0.1150],\n",
      "        [ 0.5278, -2.1116,  1.2788,  0.5278, -2.1116],\n",
      "        [ 1.8622,  0.1464,  0.7416,  1.8622,  0.1464],\n",
      "        [ 0.0967,  0.6185, -0.5924,  0.0967,  0.6185],\n",
      "        [ 1.1458,  1.2184, -0.9943,  1.1458,  1.2184],\n",
      "        [ 1.9919, -0.0321, -0.3932,  1.9919, -0.0321],\n",
      "        [-0.3981, -0.0642,  0.1205, -0.3981, -0.0642],\n",
      "        [-2.3824,  1.1970, -1.5812, -2.3824,  1.1970],\n",
      "        [-1.3568, -1.1408,  1.0675, -1.3568, -1.1408],\n",
      "        [ 0.9799,  0.1194,  1.2531,  0.9799,  0.1194]])\n"
     ]
    }
   ],
   "source": [
    "in_features = 5\n",
    "out_features = 10\n",
    "layer = lora.Embedding(in_features, out_features, 3, 'add', 3)\n",
    "layer.eval()\n",
    "print(layer.lora_A)\n",
    "print(layer.lora_B)\n",
    "print(layer.weight.T)"
   ]
  }
 ],
 "metadata": {
  "kernelspec": {
   "display_name": "fedag",
   "language": "python",
   "name": "python3"
  },
  "language_info": {
   "codemirror_mode": {
    "name": "ipython",
    "version": 3
   },
   "file_extension": ".py",
   "mimetype": "text/x-python",
   "name": "python",
   "nbconvert_exporter": "python",
   "pygments_lexer": "ipython3",
   "version": "3.7.12"
  },
  "orig_nbformat": 4
 },
 "nbformat": 4,
 "nbformat_minor": 2
}
