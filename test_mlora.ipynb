{
 "cells": [
  {
   "attachments": {},
   "cell_type": "markdown",
   "metadata": {},
   "source": [
    "Estimate the upper bound of the rank"
   ]
  },
  {
   "cell_type": "code",
   "execution_count": 3,
   "metadata": {},
   "outputs": [
    {
     "data": {
      "image/png": "[encoded data removed]",
      "text/plain": [
       "<Figure size 432x288 with 1 Axes>"
      ]
     },
     "metadata": {
      "needs_background": "light"
     },
     "output_type": "display_data"
    }
   ],
   "source": [
    "import matplotlib.pyplot as plt\n",
    "\n",
    "# Define values for r\n",
    "r_values = range(1, 17)\n",
    "\n",
    "# Define values for k\n",
    "k_values = range(1, 5)\n",
    "\n",
    "# Loop through k values and plot (r/k)^k for each value\n",
    "for k in k_values:\n",
    "    y_values = [(r / k) ** k for r in r_values]\n",
    "    plt.plot(r_values, y_values, label=f\"k={k}\")\n",
    "\n",
    "# Add labels and legend to the plot\n",
    "plt.xlabel(\"r\")\n",
    "plt.ylabel(\"rank=$(\\\\frac{r}{k})^k$\")\n",
    "plt.legend()\n",
    "\n",
    "# Show the plot\n",
    "plt.show()\n"
   ]
  },
  {
   "attachments": {},
   "cell_type": "markdown",
   "metadata": {},
   "source": [
    "Experiment on the method"
   ]
  },
  {
   "cell_type": "code",
   "execution_count": 139,
   "metadata": {},
   "outputs": [
    {
     "data": {
      "text/plain": [
       "array([[1., 0., 0., 1., 0., 0., 1., 0., 0., 1., 0., 0.],\n",
       "       [0., 1., 0., 0., 1., 0., 0., 1., 0., 0., 1., 0.],\n",
       "       [0., 0., 1., 0., 0., 1., 0., 0., 1., 0., 0., 1.]])"
      ]
     },
     "execution_count": 139,
     "metadata": {},
     "output_type": "execute_result"
    }
   ],
   "source": [
    "# change the identity matrix A=np.eye(3), to be a matrix contains k A in a row\n",
    "A = np.eye(3)\n",
    "A = np.vstack([A] * k).T\n",
    "A\n"
   ]
  },
  {
   "cell_type": "code",
   "execution_count": 161,
   "metadata": {},
   "outputs": [],
   "source": [
    "import numpy as np\n",
    "import matplotlib.pyplot as plt\n",
    "\n",
    "def estimator(type = 'h', m_rows = 768, n_rows=1024, r=16, k=4, regularization=False):\n",
    "    if type == 'a':\n",
    "        assert(m_rows % r == 0 and n_rows % r==0)\n",
    "        I = np.eye(r)\n",
    "        Iu = np.vstack([I] * (n_rows // r)).T\n",
    "        Iv = np.vstack([I] * (m_rows // r))\n",
    "\n",
    "        print(f\"trainable: {(m_rows+n_rows)*r}, partion: {(m_rows+n_rows)*r/(m_rows * n_rows)}\")\n",
    "        est = min(m_rows, n_rows, 2*r)\n",
    "        print(f\"r = {r}, estimate rank of delta: {est}\")\n",
    "    else:\n",
    "        assert(r % k == 0)\n",
    "        rr = r // k\n",
    "        print(f\"trainable: {(m_rows+n_rows)*r}, partion: {(m_rows+n_rows)*r/(m_rows * n_rows)}\")\n",
    "        est = min(m_rows, n_rows, rr**k)\n",
    "        print(f\"r={r},k={k}, regularization:{regularization}, estimate rank of delta: {est}\")\n",
    "    \n",
    "    # Initialize an array to store the rank of each matrix\n",
    "    ranks = np.zeros(100)\n",
    "    \n",
    "    def a_lora():\n",
    "        U = np.random.normal(size=(m_rows, r))\n",
    "        V = np.random.normal(size=(n_rows, r))\n",
    "        W = U.dot(Iu) + Iv.dot(V.T)\n",
    "        return np.linalg.matrix_rank(W)\n",
    "    \n",
    "    def h_lora():\n",
    "        # Generate the Wi matrices\n",
    "        U = np.random.normal(size=(m_rows, r))\n",
    "        V = np.random.normal(size=(n_rows, r))\n",
    "        # Computer W\n",
    "        for j in range(k):\n",
    "            Wi = U[:, j * rr : (j+1) * rr].dot(V[:, j * rr : (j+1) * rr].T)\n",
    "            if regularization:\n",
    "                Wi = np.tanh(Wi)\n",
    "            if j==0:\n",
    "                W = Wi\n",
    "            else:\n",
    "                W *= Wi\n",
    "        # Compute the rank of the W matrix\n",
    "        return np.linalg.matrix_rank(W)\n",
    "\n",
    "    # Run the experiments\n",
    "    for i in range(100):\n",
    "        if type == 'a':\n",
    "            ranks[i] = a_lora()\n",
    "        else:\n",
    "            ranks[i] = h_lora()\n",
    "\n",
    "    # Display the histogram of ranks\n",
    "    plt.hist(ranks,bins=range(1, 1+min(m_rows, n_rows)), density=True)\n",
    "    plt.xlabel('Rank')\n",
    "    plt.ylabel('Frequency')\n",
    "    plt.show()"
   ]
  },
  {
   "cell_type": "code",
   "execution_count": 163,
   "metadata": {},
   "outputs": [
    {
     "name": "stdout",
     "output_type": "stream",
     "text": [
      "trainable: 4000, partion: 0.4\n",
      "r = 20, estimate rank of delta: 40\n"
     ]
    },
    {
     "data": {
      "image/png": "[encoded data removed]",
      "text/plain": [
       "<Figure size 432x288 with 1 Axes>"
      ]
     },
     "metadata": {
      "needs_background": "light"
     },
     "output_type": "display_data"
    }
   ],
   "source": [
    "estimator(type = 'a', m_rows = 100, n_rows=100, r=20, regularization=False)"
   ]
  },
  {
   "cell_type": "code",
   "execution_count": 158,
   "metadata": {},
   "outputs": [
    {
     "name": "stdout",
     "output_type": "stream",
     "text": [
      "trainable: 28672, partion: 0.036458333333333336\n",
      "r=16,k=4, regularization:Trueestimate rank of delta: 256\n"
     ]
    },
    {
     "data": {
      "image/png": "[encoded data removed]",
      "text/plain": [
       "<Figure size 432x288 with 1 Axes>"
      ]
     },
     "metadata": {
      "needs_background": "light"
     },
     "output_type": "display_data"
    }
   ],
   "source": [
    "estimator(regularization=True)"
   ]
  },
  {
   "cell_type": "code",
   "execution_count": 95,
   "metadata": {},
   "outputs": [
    {
     "name": "stdout",
     "output_type": "stream",
     "text": [
      "trainable: 2000, partion: 0.2\n",
      "r=10,k=1, regularization:Falseestimate rank of delta: 10\n"
     ]
    },
    {
     "data": {
      "image/png": "[encoded data removed]",
      "text/plain": [
       "<Figure size 432x288 with 1 Axes>"
      ]
     },
     "metadata": {
      "needs_background": "light"
     },
     "output_type": "display_data"
    },
    {
     "name": "stdout",
     "output_type": "stream",
     "text": [
      "trainable: 600, partion: 0.06\n",
      "r=3,k=1, regularization:Trueestimate rank of delta: 3\n"
     ]
    },
    {
     "data": {
      "image/png": "[encoded data removed]",
      "text/plain": [
       "<Figure size 432x288 with 1 Axes>"
      ]
     },
     "metadata": {
      "needs_background": "light"
     },
     "output_type": "display_data"
    }
   ],
   "source": [
    "estimator(m_rows = 100, n_rows=100, r=10, k=1, regularization=False)\n",
    "estimator(m_rows = 100, n_rows=100, r=3, k=1, regularization=True)"
   ]
  }
 ],
 "metadata": {
  "kernelspec": {
   "display_name": "fedag",
   "language": "python",
   "name": "python3"
  },
  "language_info": {
   "codemirror_mode": {
    "name": "ipython",
    "version": 3
   },
   "file_extension": ".py",
   "mimetype": "text/x-python",
   "name": "python",
   "nbconvert_exporter": "python",
   "pygments_lexer": "ipython3",
   "version": "3.7.12"
  },
  "orig_nbformat": 4
 },
 "nbformat": 4,
 "nbformat_minor": 2
}
